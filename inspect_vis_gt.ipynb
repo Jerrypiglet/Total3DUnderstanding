{
 "cells": [
  {
   "cell_type": "code",
   "execution_count": 2,
   "metadata": {},
   "outputs": [
    {
     "data": {
      "text/html": [
       "<style>.container { width:90% !important; }</style>"
      ],
      "text/plain": [
       "<IPython.core.display.HTML object>"
      ]
     },
     "metadata": {},
     "output_type": "display_data"
    },
    {
     "name": "stdout",
     "output_type": "stream",
     "text": [
      "[[ 0.99992967  0.          0.01185941]\n",
      " [ 0.          1.          0.        ]\n",
      " [-0.01185941  0.          0.99992967]]\n",
      "(530, 730, 3)\n",
      "[draw_projected_bdb3d] Returned.\n"
     ]
    },
    {
     "data": {
      "application/vnd.jupyter.widget-view+json": {
       "model_id": "583d180c63dc4a90b2002f944610f5e7",
       "version_major": 2,
       "version_minor": 0
      },
      "text/plain": [
       "Canvas(toolbar=Toolbar(toolitems=[('Home', 'Reset original view', 'home', 'home'), ('Back', 'Back to previous …"
      ]
     },
     "metadata": {},
     "output_type": "display_data"
    },
    {
     "name": "stdout",
     "output_type": "stream",
     "text": [
      "[draw_projected_layoutbdb3d] Returned.\n",
      "[[ 0.990197  0.139566  0.005576]\n",
      " [-0.139566  0.987025  0.079386]\n",
      " [ 0.005576 -0.079386  0.996828]]\n"
     ]
    }
   ],
   "source": [
    "%reload_ext autoreload\n",
    "%autoreload 2\n",
    "\n",
    "from IPython.core.display import display, HTML\n",
    "display(HTML(\"<style>.container { width:90% !important; }</style>\"))\n",
    "\n",
    "import os, sys\n",
    "from utils.sunrgbd_config import SUNRGBD_CONFIG\n",
    "from configs.data_config import NYU40CLASSES\n",
    "from utils.sunrgbd_utils import readsunrgbdframe, process_sunrgbd_frame, check_bdb\n",
    "from utils.vis_tools_sunrgbd import Scene3D_SUNRGBD\n",
    "import os\n",
    "import numpy as np\n",
    "import pickle\n",
    "from configs.data_config import Config\n",
    "from utils.sunrgbd_utils import proj_from_point_to_2d, get_corners_of_bb3d_no_index\n",
    "from net_utils.libs import get_iou\n",
    "from libs.tools import camera_cls_reg_sunrgbd, layout_size_avg_residual, ori_cls_reg, obj_size_avg_residual, bin_cls_reg, list_of_dict_to_dict_of_list\n",
    "import json\n",
    "\n",
    "from utils.utils_rui import *\n",
    "\n",
    "sunrgbd_config = SUNRGBD_CONFIG()\n",
    "image_id = 3\n",
    "sequence = readsunrgbdframe(sunrgbd_config, image_id=image_id) # utils.sunrgbd_utils -> class SUNRGBDData()\n",
    "scene = Scene3D_SUNRGBD(sequence) # utils.vis_tools_sunrgbd -> class Scene3D_SUNRGBD(Scene3D)\n",
    "\n",
    "# scene.draw_image()\n",
    "# scene.draw_cls()\n",
    "# scene.draw_inst()\n",
    "im, color_list = scene.draw_projected_bdb3d(return_plt=True)\n",
    "\n",
    "%matplotlib widget\n",
    "\n",
    "import matplotlib.pyplot as plt\n",
    "fig = plt.figure(figsize=(15, 5))\n",
    "plt.subplot(121)\n",
    "plt.imshow(im)\n",
    "\n",
    "im, bdb2D_from_3D = scene.draw_projected_layoutbdb3d(return_plt=True, fix_polygon=True)\n",
    "plt.subplot(122)\n",
    "plt.imshow(im)\n",
    "# scene.draw3D()\n",
    "\n",
    "# display(fig)\n",
    "plt.show()\n",
    "\n",
    "print(sequence.R_ex)"
   ]
  },
  {
   "cell_type": "code",
   "execution_count": 77,
   "metadata": {},
   "outputs": [
    {
     "data": {
      "text/plain": [
       "array([[529.5,   0. , 365. ],\n",
       "       [  0. , 529.5, 265. ],\n",
       "       [  0. ,   0. ,   1. ]])"
      ]
     },
     "execution_count": 77,
     "metadata": {},
     "output_type": "execute_result"
    }
   ],
   "source": [
    "scene.cam_K"
   ]
  },
  {
   "cell_type": "markdown",
   "metadata": {},
   "source": [
    "## what happens in 'class Scene3D_SUNRGBD(Scene3D)'"
   ]
  },
  {
   "cell_type": "code",
   "execution_count": 67,
   "metadata": {},
   "outputs": [
    {
     "name": "stdout",
     "output_type": "stream",
     "text": [
      "[[ 0.8746  0.4838  0.0304]\n",
      " [-0.4838  0.8673  0.1174]\n",
      " [ 0.0304 -0.1174  0.9926]]\n",
      "[[ 0.9994  0.     -0.0348]\n",
      " [ 0.      1.      0.    ]\n",
      " [ 0.0348  0.      0.9994]]\n"
     ]
    },
    {
     "data": {
      "application/vnd.jupyter.widget-view+json": {
       "model_id": "871d17556599406c97d2ee8d41d5bc20",
       "version_major": 2,
       "version_minor": 0
      },
      "text/plain": [
       "Canvas(toolbar=Toolbar(toolitems=[('Home', 'Reset original view', 'home', 'home'), ('Back', 'Back to previous …"
      ]
     },
     "metadata": {},
     "output_type": "display_data"
    }
   ],
   "source": [
    "np.set_printoptions(precision=4)\n",
    "np.set_printoptions(suppress=True)\n",
    "\n",
    "from utils.sunrgbd_utils import get_NYU37_class_id, cvt2nyu37class_map, process_layout, get_world_R, transform_to_world,\\\n",
    "    cvt_R_ex_to_cam_R, check_bdb2d, process_bdb3d, process_bdb2d, get_inst_map, normalize_point, get_campact_layout\n",
    "\n",
    "cam_R = cvt_R_ex_to_cam_R(sequence.R_ex) # transform objects from world system to camera system\n",
    "# define a world system\n",
    "world_R = get_world_R(cam_R) # almost identity matrix\n",
    "print(cam_R)\n",
    "print(world_R)\n",
    "\n",
    "layout, layout_t = process_layout(sequence.manhattan_layout) # sequence.manhattan_layout: 8-point bbox; transform sunrgbd layout to toward-up-right form.\n",
    "centroid = layout['centroid']\n",
    "vectors = np.diag(layout['coeffs']).dot(layout['basis'])\n",
    "\n",
    "bdb3ds_ws = process_bdb3d(sequence.bdb3d) # sequence.bdb3d: an array of length: num of objects\n",
    "\n",
    "# key: transform everything to world system\n",
    "layout, __bdb3d, __cam_R = transform_to_world(layout, bdb3ds_ws, cam_R, world_R)\n",
    "\n",
    "fig = plt.figure()\n",
    "ax = fig.gca(projection='3d')\n",
    "ax.set_aspect(\"auto\")\n",
    "vis_axis(ax)\n",
    "\n",
    "# bdb3d_layout_not_processed = get_corners_of_bb3d_no_index(layout['basis'], layout['coeffs'], layout['centroid'])\n",
    "bdb3d_layout_not_processed = layout_t\n",
    "vis_cube_plt(bdb3d_layout_not_processed, ax, 'b')\n",
    "\n",
    "# comparing against: processed inside the function\n",
    "bdb3d_layout = get_corners_of_bb3d_no_index(scene.layout['basis'], scene.layout['coeffs'], scene.layout['centroid'])\n",
    "vis_cube_plt(bdb3d_layout, ax, 'r')\n",
    "\n",
    "ax.view_init(elev=-66, azim=92)"
   ]
  },
  {
   "cell_type": "code",
   "execution_count": 65,
   "metadata": {},
   "outputs": [
    {
     "data": {
      "text/plain": [
       "array([[ 0.4837, -1.3289, -1.6843],\n",
       "       [ 2.649 ,  3.3146, -1.6843],\n",
       "       [-1.174 ,  5.0973, -1.6843],\n",
       "       [-3.3393,  0.4538, -1.6843],\n",
       "       [ 0.4837, -1.3289,  4.    ],\n",
       "       [ 2.649 ,  3.3146,  4.    ],\n",
       "       [-1.174 ,  5.0973,  4.    ],\n",
       "       [-3.3393,  0.4538,  4.    ]], dtype=float32)"
      ]
     },
     "execution_count": 65,
     "metadata": {},
     "output_type": "execute_result"
    }
   ],
   "source": [
    "sequence.manhattan_layout"
   ]
  },
  {
   "cell_type": "code",
   "execution_count": 61,
   "metadata": {},
   "outputs": [
    {
     "data": {
      "text/plain": [
       "array([[ 0.8752,  0.4794,  0.0649],\n",
       "       [-0.4838,  0.8673,  0.1174],\n",
       "       [ 0.    , -0.1342,  0.991 ]])"
      ]
     },
     "execution_count": 61,
     "metadata": {},
     "output_type": "execute_result"
    }
   ],
   "source": [
    "__cam_R"
   ]
  },
  {
   "cell_type": "code",
   "execution_count": 40,
   "metadata": {},
   "outputs": [
    {
     "data": {
      "text/plain": [
       "({'coeffs': array([0.8753, 0.4823, 1.0979]),\n",
       "  'basis': array([[-0.6221,  0.    ,  0.7829],\n",
       "         [ 0.    ,  1.    ,  0.    ],\n",
       "         [-0.7829, -0.    , -0.6221]]),\n",
       "  'centroid': array([ 2.5768, -0.7177,  0.3023]),\n",
       "  'class_id': 4},\n",
       " {'coeffs': array([0.8753, 0.4823, 1.0979]),\n",
       "  'basis': array([[-0.6178,  0.    ,  0.7863],\n",
       "         [ 0.    ,  1.    ,  0.    ],\n",
       "         [-0.7863,  0.    , -0.6178]]),\n",
       "  'centroid': array([ 2.5784, -0.7177,  0.2881]),\n",
       "  'class_id': 4})"
      ]
     },
     "execution_count": 40,
     "metadata": {},
     "output_type": "execute_result"
    }
   ],
   "source": [
    "bdb3ds_ws[0], __bdb3d[0]"
   ]
  },
  {
   "cell_type": "code",
   "execution_count": 29,
   "metadata": {},
   "outputs": [
    {
     "data": {
      "text/plain": [
       "(array([[ 0.934 ,  0.3541,  0.0482],\n",
       "        [-0.3541,  0.8988,  0.2585],\n",
       "        [ 0.0482, -0.2585,  0.9648]]),\n",
       " array([[ 0.9987,  0.    , -0.0515],\n",
       "        [ 0.    ,  1.    ,  0.    ],\n",
       "        [ 0.0515,  0.    ,  0.9987]]))"
      ]
     },
     "execution_count": 29,
     "metadata": {},
     "output_type": "execute_result"
    }
   ],
   "source": [
    "cam_R, world_R"
   ]
  },
  {
   "cell_type": "code",
   "execution_count": 46,
   "metadata": {},
   "outputs": [
    {
     "data": {
      "text/plain": [
       "array([[-1.2711,  4.    , -0.62  ],\n",
       "       [ 0.3442,  4.    ,  4.071 ],\n",
       "       [ 5.2405,  4.    ,  2.3851],\n",
       "       [ 3.6253,  4.    , -2.3059],\n",
       "       [-1.2711, -1.2711, -0.62  ],\n",
       "       [ 0.3442, -1.2711,  4.071 ],\n",
       "       [ 5.2405, -1.2711,  2.3851],\n",
       "       [ 3.6253, -1.2711, -2.3059]])"
      ]
     },
     "execution_count": 46,
     "metadata": {},
     "output_type": "execute_result"
    }
   ],
   "source": [
    "bdb3d_layout_not_processed"
   ]
  },
  {
   "cell_type": "code",
   "execution_count": 47,
   "metadata": {},
   "outputs": [
    {
     "data": {
      "text/plain": [
       "array([[-1.2764,  4.    , -0.6089],\n",
       "       [ 0.3796,  4.    ,  4.0679],\n",
       "       [ 5.2611,  4.    ,  2.3394],\n",
       "       [ 3.605 ,  4.    , -2.3374],\n",
       "       [-1.2764, -1.2711, -0.6089],\n",
       "       [ 0.3796, -1.2711,  4.0679],\n",
       "       [ 5.2611, -1.2711,  2.3394],\n",
       "       [ 3.605 , -1.2711, -2.3374]])"
      ]
     },
     "execution_count": 47,
     "metadata": {},
     "output_type": "execute_result"
    }
   ],
   "source": [
    "bdb3d_layout"
   ]
  },
  {
   "cell_type": "code",
   "execution_count": 15,
   "metadata": {},
   "outputs": [
    {
     "name": "stdout",
     "output_type": "stream",
     "text": [
      "[[ 0.926   0.      0.3775]\n",
      " [ 0.      1.      0.    ]\n",
      " [-0.3775  0.      0.926 ]] [[ 0.9205  0.      0.3907]\n",
      " [ 0.      1.      0.    ]\n",
      " [-0.3907  0.      0.9205]]\n"
     ]
    }
   ],
   "source": [
    "print(scene.layout['basis'], layout['basis'])"
   ]
  },
  {
   "cell_type": "code",
   "execution_count": 16,
   "metadata": {},
   "outputs": [
    {
     "name": "stdout",
     "output_type": "stream",
     "text": [
      "[2.2679 2.6875 1.7295] [2.2679 2.6875 1.7295]\n"
     ]
    }
   ],
   "source": [
    "print(scene.layout['coeffs'], layout['coeffs'])"
   ]
  },
  {
   "cell_type": "code",
   "execution_count": 17,
   "metadata": {},
   "outputs": [
    {
     "name": "stdout",
     "output_type": "stream",
     "text": [
      "[ 1.4495  1.3125 -0.1969] [ 1.4522  1.3125 -0.1761]\n"
     ]
    }
   ],
   "source": [
    "print(scene.layout['centroid'], layout['centroid'])"
   ]
  },
  {
   "cell_type": "markdown",
   "metadata": {},
   "source": [
    "# vis from 'scene'"
   ]
  },
  {
   "cell_type": "code",
   "execution_count": 34,
   "metadata": {},
   "outputs": [
    {
     "data": {
      "application/vnd.jupyter.widget-view+json": {
       "model_id": "a271399a2e7249dcb4c69d4347c8d196",
       "version_major": 2,
       "version_minor": 0
      },
      "text/plain": [
       "Canvas(toolbar=Toolbar(toolitems=[('Home', 'Reset original view', 'home', 'home'), ('Back', 'Back to previous …"
      ]
     },
     "metadata": {},
     "output_type": "display_data"
    },
    {
     "name": "stdout",
     "output_type": "stream",
     "text": [
      "[0.4, 0.3686274509803922, 0.9137254901960784]\n",
      "[0.23529411764705882, 0.7647058823529411, 0.6627450980392157]\n",
      "[0.7294117647058823, 0.7450980392156863, 0.47843137254901963]\n",
      "[0.611764705882353, 0.03529411764705882, 0.396078431372549]\n"
     ]
    }
   ],
   "source": [
    "fig = plt.figure()\n",
    "\n",
    "ax = fig.gca(projection='3d')\n",
    "ax.set_aspect(\"auto\")\n",
    "vis_axis(ax)\n",
    "\n",
    "# vis_cube_plt(data_frame.manhattan_layout, ax)\n",
    "bdb3d_layout = get_corners_of_bb3d_no_index(scene.layout['basis'], scene.layout['coeffs'], scene.layout['centroid'])\n",
    "vis_cube_plt(bdb3d_layout, ax, 'r')\n",
    "ax.view_init(elev=-66, azim=92)\n",
    "\n",
    "from utils.sunrgbd_utils import proj_from_point_to_2d\n",
    "\n",
    "for bdb3d, color in zip(scene.bdb3d, color_list):\n",
    "    bdb3d_corners = get_corners_of_bb3d_no_index(bdb3d['basis'], bdb3d['coeffs'], bdb3d['centroid']) # bbox y axis is absolute upright\n",
    "    vis_cube_plt(bdb3d_corners, ax, color=color)\n",
    "    \n",
    "for bdb3d, color in zip(bdb3ds_ws, color_list):\n",
    "    bdb3d_corners = get_corners_of_bb3d_no_index(bdb3d['basis'], bdb3d['coeffs'], bdb3d['centroid']) # bbox y axis is absolute upright\n",
    "    vis_cube_plt(bdb3d_corners, ax)\n",
    "\n",
    "fig.canvas.toolbar_visible = True\n",
    "\n",
    "# display(fig)"
   ]
  },
  {
   "cell_type": "code",
   "execution_count": 9,
   "metadata": {},
   "outputs": [
    {
     "data": {
      "text/plain": [
       "(array([[ 0.7829, -0.6221,  0.    ],\n",
       "       [ 0.6221,  0.7829,  0.    ],\n",
       "       [ 0.    ,  0.    ,  1.    ]]), array([[0.8753, 1.0979, 0.4823]]), array([[ 0.3023,  2.5768, -0.7177]]), array(['bed'], dtype='<U3'), array(['SUNRGBD/kv2/kinect2data/000015_2014-05-26_14-37-33_260595134347_rgbf000020-resize'],\n",
       "      dtype='<U81'), array([[-0.6221, -0.7829,  0.    ]]), array([[1]], dtype=uint8))"
      ]
     },
     "execution_count": 9,
     "metadata": {},
     "output_type": "execute_result"
    }
   ],
   "source": [
    "sequence.bdb3d[0]"
   ]
  },
  {
   "cell_type": "code",
   "execution_count": 35,
   "metadata": {},
   "outputs": [
    {
     "data": {
      "text/plain": [
       "[{'coeffs': array([0.8753, 0.4823, 1.0979]),\n",
       "  'basis': array([[-0.6221,  0.    ,  0.7829],\n",
       "         [ 0.    ,  1.    ,  0.    ],\n",
       "         [-0.7829, -0.    , -0.6221]]),\n",
       "  'centroid': array([ 2.5768, -0.7177,  0.3023]),\n",
       "  'class_id': 4},\n",
       " {'coeffs': array([0.3175, 0.3554, 0.2273]),\n",
       "  'basis': array([[-0.6317,  0.    ,  0.7752],\n",
       "         [ 0.    ,  1.    ,  0.    ],\n",
       "         [-0.7752, -0.    , -0.6317]]),\n",
       "  'centroid': array([ 4.0484, -0.8309, -0.1426]),\n",
       "  'class_id': 32},\n",
       " {'coeffs': array([0.2995, 0.3256, 0.2808]),\n",
       "  'basis': array([[-0.534 ,  0.    ,  0.8455],\n",
       "         [ 0.    ,  1.    ,  0.    ],\n",
       "         [-0.8455, -0.    , -0.534 ]]),\n",
       "  'centroid': array([ 2.4155, -0.8744,  1.8649]),\n",
       "  'class_id': 32},\n",
       " {'coeffs': array([0.193 , 0.3727, 0.193 ]),\n",
       "  'basis': array([[-0.6832,  0.    ,  0.7303],\n",
       "         [ 0.    ,  1.    ,  0.    ],\n",
       "         [-0.7303, -0.    , -0.6832]]),\n",
       "  'centroid': array([ 4.    , -0.0955, -0.0955]),\n",
       "  'class_id': 35}]"
      ]
     },
     "execution_count": 35,
     "metadata": {},
     "output_type": "execute_result"
    }
   ],
   "source": [
    "bdb3ds_ws"
   ]
  },
  {
   "cell_type": "code",
   "execution_count": null,
   "metadata": {},
   "outputs": [],
   "source": []
  },
  {
   "cell_type": "code",
   "execution_count": 62,
   "metadata": {},
   "outputs": [
    {
     "data": {
      "text/plain": [
       "{'centroid': array([ 1.4042413 ,  1.34581369, -0.38624769]),\n",
       " 'coeffs': array([2.30113326, 2.65418631, 2.21155161]),\n",
       " 'basis': array([[ 0.98055391,  0.        ,  0.19624992],\n",
       "        [ 0.        ,  1.        ,  0.        ],\n",
       "        [-0.19624992,  0.        ,  0.98055391]])}"
      ]
     },
     "execution_count": 62,
     "metadata": {},
     "output_type": "execute_result"
    }
   ],
   "source": [
    "scene.layout"
   ]
  },
  {
   "cell_type": "code",
   "execution_count": 55,
   "metadata": {},
   "outputs": [
    {
     "data": {
      "text/plain": [
       "array([[-1.26924317e+04, -1.33977421e+07]])"
      ]
     },
     "execution_count": 55,
     "metadata": {},
     "output_type": "execute_result"
    }
   ],
   "source": [
    "center_from_3D"
   ]
  },
  {
   "cell_type": "code",
   "execution_count": 46,
   "metadata": {},
   "outputs": [
    {
     "data": {
      "text/plain": [
       "(array([[ 0.96835519, -0.24957608,  0.        ],\n",
       "       [ 0.24783325,  0.9688027 ,  0.        ],\n",
       "       [ 0.        ,  0.        ,  1.        ]]), array([[0.45907792, 0.34032744, 0.393974  ]]), array([[ 1.30276515,  3.05095168, -0.86269307]]), array(['night_stand'], dtype='<U11'), array(['SUNRGBD/kv2/kinect2data/000003_2014-05-26_14-24-42_260595134347_rgbf000040-resize'],\n",
       "      dtype='<U81'), array([[-0.24783325, -0.9688027 ,  0.        ]]), array([[1]], dtype=uint8))"
      ]
     },
     "execution_count": 46,
     "metadata": {},
     "output_type": "execute_result"
    }
   ],
   "source": [
    "data_frame.bdb3d[1]"
   ]
  },
  {
   "cell_type": "code",
   "execution_count": 30,
   "metadata": {},
   "outputs": [
    {
     "data": {
      "application/vnd.jupyter.widget-view+json": {
       "model_id": "d9092b1a116d44508bdce095cfc3a329",
       "version_major": 2,
       "version_minor": 0
      },
      "text/plain": [
       "Canvas(toolbar=Toolbar(toolitems=[('Home', 'Reset original view', 'home', 'home'), ('Back', 'Back to previous …"
      ]
     },
     "metadata": {},
     "output_type": "display_data"
    }
   ],
   "source": [
    "# # draw sphere\n",
    "# u, v = np.mgrid[0:2*np.pi:20j, 0:np.pi:10j]\n",
    "# x = np.cos(u)*np.sin(v)\n",
    "# y = np.sin(u)*np.sin(v)\n",
    "# z = np.cos(v)\n",
    "# ax.plot_wireframe(x, y, z, color=\"r\")\n",
    "\n",
    "# # draw a point\n",
    "# ax.scatter([0], [0], [0], color=\"g\", s=100)\n",
    "\n",
    "# # draw a vector\n",
    "# from matplotlib.patches import FancyArrowPatch\n",
    "# from mpl_toolkits.mplot3d import proj3d\n",
    "\n",
    "\n",
    "# class Arrow3D(FancyArrowPatch):\n",
    "\n",
    "#     def __init__(self, xs, ys, zs, *args, **kwargs):\n",
    "#         FancyArrowPatch.__init__(self, (0, 0), (0, 0), *args, **kwargs)\n",
    "#         self._verts3d = xs, ys, zs\n",
    "\n",
    "#     def draw(self, renderer):\n",
    "#         xs3d, ys3d, zs3d = self._verts3d\n",
    "#         xs, ys, zs = proj3d.proj_transform(xs3d, ys3d, zs3d, renderer.M)\n",
    "#         self.set_positions((xs[0], ys[0]), (xs[1], ys[1]))\n",
    "#         FancyArrowPatch.draw(self, renderer)\n",
    "\n",
    "# a = Arrow3D([0, 1], [0, 1], [0, 1], mutation_scale=20,\n",
    "#             lw=1, arrowstyle=\"-|>\", color=\"k\")\n",
    "# ax.add_artist(a)"
   ]
  }
 ],
 "metadata": {
  "kernelspec": {
   "display_name": "Python [conda env:Total3D] *",
   "language": "python",
   "name": "conda-env-Total3D-py"
  },
  "language_info": {
   "codemirror_mode": {
    "name": "ipython",
    "version": 3
   },
   "file_extension": ".py",
   "mimetype": "text/x-python",
   "name": "python",
   "nbconvert_exporter": "python",
   "pygments_lexer": "ipython3",
   "version": "3.6.10"
  }
 },
 "nbformat": 4,
 "nbformat_minor": 4
}
