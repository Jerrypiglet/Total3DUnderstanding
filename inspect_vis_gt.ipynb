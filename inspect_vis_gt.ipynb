{
 "cells": [
  {
   "cell_type": "code",
   "execution_count": 2,
   "metadata": {},
   "outputs": [
    {
     "name": "stdout",
     "output_type": "stream",
     "text": [
      "[draw_projected_bdb3d] Returned.\n"
     ]
    },
    {
     "data": {
      "application/vnd.jupyter.widget-view+json": {
       "model_id": "4bf0921b1a1d492e975dbffefdc17104",
       "version_major": 2,
       "version_minor": 0
      },
      "text/plain": [
       "Canvas(toolbar=Toolbar(toolitems=[('Home', 'Reset original view', 'home', 'home'), ('Back', 'Back to previous …"
      ]
     },
     "metadata": {},
     "output_type": "display_data"
    },
    {
     "name": "stdout",
     "output_type": "stream",
     "text": [
      "[draw_projected_layoutbdb3d] Returned.\n"
     ]
    }
   ],
   "source": [
    "import os, sys\n",
    "from utils.sunrgbd_config import SUNRGBD_CONFIG\n",
    "from configs.data_config import NYU40CLASSES\n",
    "from utils.sunrgbd_utils import readsunrgbdframe, process_sunrgbd_frame, check_bdb\n",
    "from utils.vis_tools_sunrgbd import Scene3D_SUNRGBD\n",
    "import os\n",
    "import numpy as np\n",
    "import pickle\n",
    "from configs.data_config import Config\n",
    "from utils.sunrgbd_utils import proj_from_point_to_2d, get_corners_of_bb3d_no_index\n",
    "from net_utils.libs import get_iou\n",
    "from libs.tools import camera_cls_reg_sunrgbd, layout_size_avg_residual, ori_cls_reg, obj_size_avg_residual, bin_cls_reg, list_of_dict_to_dict_of_list\n",
    "import json\n",
    "\n",
    "sunrgbd_config = SUNRGBD_CONFIG()\n",
    "sequence = readsunrgbdframe(sunrgbd_config, image_id=2)\n",
    "\n",
    "\n",
    "scene = Scene3D_SUNRGBD(sequence)\n",
    "# scene.draw_image()\n",
    "# scene.draw_cls()\n",
    "# scene.draw_inst()\n",
    "im = scene.draw_projected_bdb3d(return_plt=True)\n",
    "\n",
    "%matplotlib widget\n",
    "\n",
    "import matplotlib.pyplot as plt\n",
    "fig = plt.figure(figsize=(15, 5))\n",
    "plt.subplot(121)\n",
    "plt.imshow(im)\n",
    "\n",
    "im, bdb2D_from_3D = scene.draw_projected_layoutbdb3d(return_plt=True, fix_polygon=True)\n",
    "plt.subplot(122)\n",
    "plt.imshow(im)\n",
    "# scene.draw3D()\n",
    "\n",
    "# display(fig)\n",
    "plt.show()"
   ]
  },
  {
   "cell_type": "code",
   "execution_count": 52,
   "metadata": {},
   "outputs": [
    {
     "data": {
      "text/html": [
       "<style>.container { width:90% !important; }</style>"
      ],
      "text/plain": [
       "<IPython.core.display.HTML object>"
      ]
     },
     "metadata": {},
     "output_type": "display_data"
    }
   ],
   "source": [
    "%reload_ext autoreload\n",
    "%autoreload 2\n",
    "\n",
    "from IPython.core.display import display, HTML\n",
    "display(HTML(\"<style>.container { width:90% !important; }</style>\"))\n",
    "\n",
    "from utils.sunrgbd_config import SUNRGBD_CONFIG\n",
    "sunrgbd_config = SUNRGBD_CONFIG()\n",
    "\n",
    "import pickle\n",
    "with open(sunrgbd_config.obj_avg_size_file, 'rb') as f:\n",
    "    obj_avg_size = pickle.load(f, encoding='latin1')\n",
    "\n",
    "\n",
    "from utils.sunrgbd_utils import readsunrgbdframe, process_sunrgbd_frame\n",
    "\n",
    "data_frame = readsunrgbdframe(sunrgbd_config, image_id=2)\n",
    "scene = Scene3D_SUNRGBD(data_frame)"
   ]
  },
  {
   "cell_type": "code",
   "execution_count": 66,
   "metadata": {},
   "outputs": [
    {
     "data": {
      "application/vnd.jupyter.widget-view+json": {
       "model_id": "d208e284e8764c8a8e7a0eb5aeabe3db",
       "version_major": 2,
       "version_minor": 0
      },
      "text/plain": [
       "Canvas(toolbar=Toolbar(toolitems=[('Home', 'Reset original view', 'home', 'home'), ('Back', 'Back to previous …"
      ]
     },
     "metadata": {},
     "output_type": "display_data"
    }
   ],
   "source": [
    "data_frame._manhattan_layout\n",
    "def vis_cube_plt(Xs, ax, color='r'):\n",
    "    index1 = [0, 1, 2, 3, 0, 4, 5, 6, 7, 4]\n",
    "    index2 = [[1, 5], [2, 6], [3, 7]]\n",
    "    ax.scatter3D(Xs[:, 0], Xs[:, 1], Xs[:, 2])\n",
    "    ax.plot3D(Xs[index1, 0], Xs[index1, 1], Xs[index1, 2], color=color)\n",
    "    for index in index2:\n",
    "        ax.plot3D(Xs[index, 0], Xs[index, 1], Xs[index, 2], color=color)\n",
    "    \n",
    "# https://stackoverflow.com/questions/11140163/plotting-a-3d-cube-a-sphere-and-a-vector-in-matplotlib\n",
    "from mpl_toolkits.mplot3d import Axes3D\n",
    "import matplotlib.pyplot as plt\n",
    "import numpy as np\n",
    "from itertools import product, combinations\n",
    "\n",
    "\n",
    "fig = plt.figure()\n",
    "ax = fig.gca(projection='3d')\n",
    "ax.set_aspect(\"auto\")\n",
    "\n",
    "# vis_cube_plt(data_frame.manhattan_layout, ax)\n",
    "bdb3d_layout = get_corners_of_bb3d_no_index(scene.layout['basis'], scene.layout['coeffs'], scene.layout['centroid'])\n",
    "vis_cube_plt(bdb3d_layout, ax, 'k')\n",
    "\n",
    "from utils.sunrgbd_utils import proj_from_point_to_2d\n",
    "for bdb3d in scene.bdb3d:\n",
    "    bdb3d_corners = get_corners_of_bb3d_no_index(bdb3d['basis'], bdb3d['coeffs'], bdb3d['centroid'])\n",
    "    vis_cube_plt(bdb3d_corners, ax)\n",
    "\n",
    "# draw cube\n",
    "# for s, e in combinations(data_frame._manhattan_layout, 2):\n",
    "#     ax.plot3D(*zip(s, e), color=\"b\")\n",
    "\n",
    "# plt.show()\n",
    "fig.canvas.toolbar_visible = True\n",
    "\n",
    "# display(fig)"
   ]
  },
  {
   "cell_type": "code",
   "execution_count": 62,
   "metadata": {},
   "outputs": [
    {
     "data": {
      "text/plain": [
       "{'centroid': array([ 1.4042413 ,  1.34581369, -0.38624769]),\n",
       " 'coeffs': array([2.30113326, 2.65418631, 2.21155161]),\n",
       " 'basis': array([[ 0.98055391,  0.        ,  0.19624992],\n",
       "        [ 0.        ,  1.        ,  0.        ],\n",
       "        [-0.19624992,  0.        ,  0.98055391]])}"
      ]
     },
     "execution_count": 62,
     "metadata": {},
     "output_type": "execute_result"
    }
   ],
   "source": [
    "scene.layout"
   ]
  },
  {
   "cell_type": "code",
   "execution_count": 55,
   "metadata": {},
   "outputs": [
    {
     "data": {
      "text/plain": [
       "array([[-1.26924317e+04, -1.33977421e+07]])"
      ]
     },
     "execution_count": 55,
     "metadata": {},
     "output_type": "execute_result"
    }
   ],
   "source": [
    "center_from_3D"
   ]
  },
  {
   "cell_type": "code",
   "execution_count": 46,
   "metadata": {},
   "outputs": [
    {
     "data": {
      "text/plain": [
       "(array([[ 0.96835519, -0.24957608,  0.        ],\n",
       "       [ 0.24783325,  0.9688027 ,  0.        ],\n",
       "       [ 0.        ,  0.        ,  1.        ]]), array([[0.45907792, 0.34032744, 0.393974  ]]), array([[ 1.30276515,  3.05095168, -0.86269307]]), array(['night_stand'], dtype='<U11'), array(['SUNRGBD/kv2/kinect2data/000003_2014-05-26_14-24-42_260595134347_rgbf000040-resize'],\n",
       "      dtype='<U81'), array([[-0.24783325, -0.9688027 ,  0.        ]]), array([[1]], dtype=uint8))"
      ]
     },
     "execution_count": 46,
     "metadata": {},
     "output_type": "execute_result"
    }
   ],
   "source": [
    "data_frame.bdb3d[1]"
   ]
  },
  {
   "cell_type": "code",
   "execution_count": 30,
   "metadata": {},
   "outputs": [
    {
     "data": {
      "application/vnd.jupyter.widget-view+json": {
       "model_id": "d9092b1a116d44508bdce095cfc3a329",
       "version_major": 2,
       "version_minor": 0
      },
      "text/plain": [
       "Canvas(toolbar=Toolbar(toolitems=[('Home', 'Reset original view', 'home', 'home'), ('Back', 'Back to previous …"
      ]
     },
     "metadata": {},
     "output_type": "display_data"
    }
   ],
   "source": [
    "# # draw sphere\n",
    "# u, v = np.mgrid[0:2*np.pi:20j, 0:np.pi:10j]\n",
    "# x = np.cos(u)*np.sin(v)\n",
    "# y = np.sin(u)*np.sin(v)\n",
    "# z = np.cos(v)\n",
    "# ax.plot_wireframe(x, y, z, color=\"r\")\n",
    "\n",
    "# # draw a point\n",
    "# ax.scatter([0], [0], [0], color=\"g\", s=100)\n",
    "\n",
    "# # draw a vector\n",
    "# from matplotlib.patches import FancyArrowPatch\n",
    "# from mpl_toolkits.mplot3d import proj3d\n",
    "\n",
    "\n",
    "# class Arrow3D(FancyArrowPatch):\n",
    "\n",
    "#     def __init__(self, xs, ys, zs, *args, **kwargs):\n",
    "#         FancyArrowPatch.__init__(self, (0, 0), (0, 0), *args, **kwargs)\n",
    "#         self._verts3d = xs, ys, zs\n",
    "\n",
    "#     def draw(self, renderer):\n",
    "#         xs3d, ys3d, zs3d = self._verts3d\n",
    "#         xs, ys, zs = proj3d.proj_transform(xs3d, ys3d, zs3d, renderer.M)\n",
    "#         self.set_positions((xs[0], ys[0]), (xs[1], ys[1]))\n",
    "#         FancyArrowPatch.draw(self, renderer)\n",
    "\n",
    "# a = Arrow3D([0, 1], [0, 1], [0, 1], mutation_scale=20,\n",
    "#             lw=1, arrowstyle=\"-|>\", color=\"k\")\n",
    "# ax.add_artist(a)"
   ]
  }
 ],
 "metadata": {
  "kernelspec": {
   "display_name": "Python [conda env:Total3D] *",
   "language": "python",
   "name": "conda-env-Total3D-py"
  },
  "language_info": {
   "codemirror_mode": {
    "name": "ipython",
    "version": 3
   },
   "file_extension": ".py",
   "mimetype": "text/x-python",
   "name": "python",
   "nbconvert_exporter": "python",
   "pygments_lexer": "ipython3",
   "version": "3.6.10"
  }
 },
 "nbformat": 4,
 "nbformat_minor": 4
}
