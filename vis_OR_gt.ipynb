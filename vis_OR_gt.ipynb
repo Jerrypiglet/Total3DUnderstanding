{
 "cells": [
  {
   "cell_type": "code",
   "execution_count": 382,
   "metadata": {},
   "outputs": [
    {
     "data": {
      "text/html": [
       "<style>.container { width:90% !important; }</style>"
      ],
      "text/plain": [
       "<IPython.core.display.HTML object>"
      ]
     },
     "metadata": {},
     "output_type": "display_data"
    },
    {
     "data": {
      "application/vnd.jupyter.widget-view+json": {
       "model_id": "4660b0f0964e4612bcb26df8ea889338",
       "version_major": 2,
       "version_minor": 0
      },
      "text/plain": [
       "Canvas(toolbar=Toolbar(toolitems=[('Home', 'Reset original view', 'home', 'home'), ('Back', 'Back to previous …"
      ]
     },
     "metadata": {},
     "output_type": "display_data"
    },
    {
     "name": "stderr",
     "output_type": "stream",
     "text": [
      "Clipping input data to the valid range for imshow with RGB data ([0..1] for floats or [0..255] for integers).\n"
     ]
    },
    {
     "name": "stdout",
     "output_type": "stream",
     "text": [
      "{'light_ctr': array([[5.9201, 3.8378, 3.    , 0.4   ]]), 'type': ['w', 'd', 'w'], 'coords': [array([[2.227 , 7.108 , 0.7257],\n",
      "       [2.76  , 8.2028, 0.7257],\n",
      "       [2.76  , 8.2028, 2.1603],\n",
      "       [2.227 , 7.108 , 2.1603]]), array([[1.4655, 5.5439, 0.    ],\n",
      "       [2.1127, 6.8734, 0.    ],\n",
      "       [2.1127, 6.8734, 2.1603],\n",
      "       [1.4655, 5.5439, 2.1603]]), array([[0.8564, 4.2926, 0.7257],\n",
      "       [1.3513, 5.3092, 0.7257],\n",
      "       [1.3513, 5.3092, 2.1603],\n",
      "       [0.8564, 4.2926, 2.1603]])]}\n"
     ]
    }
   ],
   "source": [
    "%reload_ext autoreload\n",
    "%autoreload 2\n",
    "from IPython.core.display import display, HTML\n",
    "display(HTML(\"<style>.container { width:90% !important; }</style>\"))\n",
    "from pathlib import Path\n",
    "import numpy as np\n",
    "import matplotlib.pyplot as plt\n",
    "import pickle\n",
    "from utils_OR.utils_OR import loadHdr\n",
    "\n",
    "scene_name = 'scene0001_01'\n",
    "# scene_name = 'scene0002_00'\n",
    "frame_idx = 4\n",
    "\n",
    "rendering_path = '/newfoundland2/ruizhu/siggraphasia20dataset/code/Routine/DatasetCreation/main_xml'\n",
    "xml_path = '/newfoundland2/ruizhu/siggraphasia20dataset/code/Routine/scenes/xml'\n",
    "layout_path = '/newfoundland2/ruizhu/siggraphasia20dataset/layoutMesh'\n",
    "\n",
    "image_file = Path(rendering_path) / scene_name / ('im_%d.hdr'%frame_idx)\n",
    "im_hdr = loadHdr(str(image_file))\n",
    "fig = plt.figure()\n",
    "ax = fig.gca()\n",
    "ax.set_aspect(\"equal\")\n",
    "plt.imshow(im_hdr)\n",
    "plt.show()\n",
    "\n",
    "layout_file = Path(layout_path) / scene_name / ('%s_corners.npy'%scene_name)\n",
    "corners = np.load(layout_file, allow_pickle=True)\n",
    "print(corners.item())\n",
    "\n",
    "layout_obj_file = Path(layout_path) / scene_name / 'uv_mapped.obj'\n",
    "# layout_obj_file = Path(layout_path) / scene_name / ('%s_contour.obj'%scene_name)\n"
   ]
  },
  {
   "cell_type": "code",
   "execution_count": 710,
   "metadata": {},
   "outputs": [
    {
     "data": {
      "application/vnd.jupyter.widget-view+json": {
       "model_id": "bf6b86a20a694ccd9a6251de8f5f236c",
       "version_major": 2,
       "version_minor": 0
      },
      "text/plain": [
       "Canvas(toolbar=Toolbar(toolitems=[('Home', 'Reset original view', 'home', 'home'), ('Back', 'Back to previous …"
      ]
     },
     "metadata": {},
     "output_type": "display_data"
    },
    {
     "data": {
      "application/vnd.jupyter.widget-view+json": {
       "model_id": "86759facf7264b38873dcac40bddeb88",
       "version_major": 2,
       "version_minor": 0
      },
      "text/plain": [
       "Canvas(toolbar=Toolbar(toolitems=[('Home', 'Reset original view', 'home', 'home'), ('Back', 'Back to previous …"
      ]
     },
     "metadata": {},
     "output_type": "display_data"
    },
    {
     "data": {
      "application/vnd.jupyter.widget-view+json": {
       "model_id": "2d4001a200d34d48bc8d499483d446f4",
       "version_major": 2,
       "version_minor": 0
      },
      "text/plain": [
       "Canvas(toolbar=Toolbar(toolitems=[('Home', 'Reset original view', 'home', 'home'), ('Back', 'Back to previous …"
      ]
     },
     "metadata": {},
     "output_type": "display_data"
    }
   ],
   "source": [
    "from utils_OR.utils_OR_mesh import *\n",
    "mesh = load_OR_mesh(layout_obj_file)\n",
    "# mesh = mesh.dump()[0]\n",
    "mesh = remove_top_down_faces(mesh)\n",
    "v = np.array(mesh.vertices)\n",
    "e = mesh.edges\n",
    "\n",
    "%matplotlib widget\n",
    "from utils.utils_rui import vis_axis\n",
    "fig = plt.figure()\n",
    "ax = fig.gca(projection='3d')\n",
    "ax.set_proj_type('ortho')\n",
    "ax.set_aspect(\"auto\")\n",
    "vis_axis(ax)\n",
    "v_pairs = v_pairs_from_v3d_e(v, e)\n",
    "for v_pair in v_pairs:\n",
    "    ax.plot3D(v_pair[0], v_pair[1], v_pair[2])\n",
    "\n",
    "# find 2d floor contour\n",
    "v_2d, e_2d = mesh_to_contour(mesh)\n",
    "fig = plt.figure()\n",
    "ax = fig.gca()\n",
    "ax.set_aspect(\"equal\")\n",
    "v_pairs = v_pairs_from_v2d_e(v_2d, e_2d)\n",
    "for v_pair in v_pairs:\n",
    "    ax.plot(v_pair[0], v_pair[1])\n",
    "\n",
    "# finding minimum 2d cuboid from contour\n",
    "from utils_OR.utils_OR_mesh import minimum_bounding_rectangle, mesh_to_contour\n",
    "layout_hull_2d = minimum_bounding_rectangle(v_2d)\n",
    "hull_pair_idxes = [[0, 1], [1, 2], [2, 3], [3, 0]]\n",
    "hull_v_pairs = [([layout_hull[idx[0]][0], layout_hull[idx[1]][0]], [layout_hull[idx[0]][1], layout_hull[idx[1]][1]]) for idx in hull_pair_idxes]\n",
    "for v_pair in hull_v_pairs:\n",
    "    ax.plot(v_pair[0], v_pair[1], 'b--')\n",
    "plt.grid()\n",
    "\n",
    "# simply mesh -> skeleton\n",
    "v_skeleton, e_skeleton = mesh_to_skeleton(mesh)\n",
    "\n",
    "fig = plt.figure()\n",
    "ax = fig.gca(projection='3d')\n",
    "ax.set_proj_type('ortho')\n",
    "ax.set_aspect(\"auto\")\n",
    "vis_axis(ax)\n",
    "v_pairs = v_pairs_from_v3d_e(v_skeleton, e_skeleton)\n",
    "for v_pair in v_pairs:\n",
    "    ax.plot3D(v_pair[0], v_pair[1], v_pair[2])\n",
    "\n",
    "# 2d cuvboid hull -> 3d cuboid\n",
    "room_height = 3.\n",
    "layout_box_3d = np.hstack((np.vstack((layout_hull, layout_hull)), np.vstack((np.zeros((4, 1)), np.zeros((4, 1))+room_height))))    \n",
    "vis_cube_plt(layout_box_3d, ax, 'b', linestyle='--')\n"
   ]
  },
  {
   "cell_type": "code",
   "execution_count": 581,
   "metadata": {},
   "outputs": [
    {
     "data": {
      "application/vnd.jupyter.widget-view+json": {
       "model_id": "a3812ef5419b40938bde7ba53f9bd7ad",
       "version_major": 2,
       "version_minor": 0
      },
      "text/plain": [
       "Canvas(toolbar=Toolbar(toolitems=[('Home', 'Reset original view', 'home', 'home'), ('Back', 'Back to previous …"
      ]
     },
     "metadata": {},
     "output_type": "display_data"
    }
   ],
   "source": [
    "# transfer layout to world coordinates\n",
    "transformFile = Path(xml_path) / scene_name / 'transform.dat'\n",
    "# load transformations # writeShapeToXML.py L588\n",
    "with open(str(transformFile), 'rb') as fIn:\n",
    "    transforms = pickle.load(fIn )\n",
    "\n",
    "transforms_layout = transforms[0]\n",
    "\n",
    "v_skeleton_transform = transform_v(v_skeleton, transforms_layout)\n",
    "fig = plt.figure()\n",
    "ax = fig.gca(projection='3d')\n",
    "ax.set_proj_type('ortho')\n",
    "ax.set_aspect(\"auto\")\n",
    "v_pairs = v_pairs_from_v3d_e(v_skeleton_transform, e_skeleton)\n",
    "for v_pair in v_pairs:\n",
    "    ax.plot3D(v_pair[0], v_pair[1], v_pair[2])\n",
    "ax.view_init(elev=-71, azim=-65)\n"
   ]
  },
  {
   "cell_type": "code",
   "execution_count": 770,
   "metadata": {},
   "outputs": [
    {
     "data": {
      "application/vnd.jupyter.widget-view+json": {
       "model_id": "fdc8a13c02624ecabc94fd81b206ebd8",
       "version_major": 2,
       "version_minor": 0
      },
      "text/plain": [
       "Canvas(toolbar=Toolbar(toolitems=[('Home', 'Reset original view', 'home', 'home'), ('Back', 'Back to previous …"
      ]
     },
     "metadata": {},
     "output_type": "display_data"
    }
   ],
   "source": [
    "# === Read cam intrinsics\n",
    "from utils_OR.utils_OR_xml import get_XML_root, parse_XML_for_intrinsics\n",
    "main_xml_file = Path(xml_path) / scene_name / 'main.xml'\n",
    "root = get_XML_root(main_xml_file)\n",
    "\n",
    "cam_K, intrinsics = parse_XML_for_intrinsics(root)\n",
    "\n",
    "\n",
    "# === Read cam extrinsics\n",
    "\n",
    "from utils_OR.utils_OR_cam import normalize, project_v, read_cam_params\n",
    "cam_file = Path(xml_path) / scene_name / 'cam.txt'\n",
    "cam_params = read_cam_params(cam_file)\n",
    "\n",
    "np.set_printoptions(precision=4)\n",
    "np.set_printoptions(suppress=True)\n",
    "\n",
    "cam_param = cam_params[frame_idx-1]\n",
    "origin, lookat, up = np.split(cam_param.T, 3, axis=1)\n",
    "at_vector = lookat - origin\n",
    "assert np.amax(np.abs(np.dot(at_vector.flatten(), up.flatten()))) < 1e-3 # two vector should be perpendicular\n",
    "\n",
    "zaxis = normalize(lookat - origin)\n",
    "# xaxis = normalize(np.cross(up.flatten(), zaxis.flatten()).reshape(3, 1))\n",
    "xaxis = normalize(np.cross(up.T, zaxis.T).T)\n",
    "yaxis = np.cross(zaxis.T, xaxis.T).T\n",
    "# transformation = np.hstack([xaxis, yaxis, zaxis, np.zeros((3, 1))])\n",
    "# transformation = np.vstack([transformation, \\\n",
    "#                             np.array([-np.dot(xaxis.flatten(), origin.flatten()), -np.dot(yaxis.flatten(), origin.flatten()), -np.dot(zaxis.flatten(), origin.flatten()), 1]).reshape(1, 4)])\n",
    "# print(transformation)\n",
    "\n",
    "# cam_R = np.eye(3, dtype=np.float)\n",
    "# cam_t = np.zeros((3, 1), dtype=np.float)\n",
    "# cam_identity_homo = np.vstack([np.hstack([cam_R, cam_t]), np.array([0., 0., 0., 1.]).reshape(1, 4)])\n",
    "\n",
    "# v_proj_1 = project_v(v_skeleton_transform, cam_R, cam_t, cam_K)\n",
    "# # print(v_proj)\n",
    "# v_proj_2 = project_v_homo(v_skeleton_transform, cam_transformation_homo, cam_K)\n",
    "# # print(v_proj)\n",
    "# assert np.array_equal(v_proj_1, v_proj_2)\n",
    "\n",
    "# shoube be the same:\n",
    "# v_proj = project_v_homo(v_skeleton_transform, cam_identity_homo, cam_K)\n",
    "# v_proj = project_v(v_skeleton_transform, cam_R, cam_t, cam_K)\n",
    "\n",
    "# v_proj = project_v_homo(v_skeleton_transform, transformation, cam_K)\n",
    "R_c = np.hstack([xaxis, yaxis, zaxis])\n",
    "R_c = np.linalg.inv(R_c)\n",
    "t_c = - R_c @ origin\n",
    "v_proj = project_v(v_skeleton_transform, R_c, t_c, cam_K)\n",
    "\n",
    "from PIL import Image, ImageDraw, ImageFont\n",
    "img_map = Image.fromarray((im_hdr*255.).astype(np.uint8))\n",
    "draw = ImageDraw.Draw(img_map)\n",
    "    \n",
    "v_tuples = v_xytuple_from_v2d_e(v_proj, e_skeleton) # [(x1y1, x2y2), ...]\n",
    "v_tuples = [x for x in v_tuples if in_frame(x[0], width, height) or in_frame(x[1], width, height)]\n",
    "\n",
    "for v_tuple in v_tuples:\n",
    "    draw.line([tuple(v_tuple[0]), tuple(v_tuple[1])], width=2)\n",
    "    \n",
    "draw.line([(10, 10), (100, 10)], width=2)\n",
    "\n",
    "\n",
    "layout_box_3d_transform = transform_v(layout_box_3d, transforms_layout)\n",
    "layout_box_3d_transform_proj, front_flags = project_v(layout_box_3d_transform, R_c, t_c, cam_K, if_only_proj_front_v=False, if_return_front_flags=True)\n",
    "from utils_OR.utils_OR import draw_projected_bdb3d\n",
    "draw_projected_bdb3d(draw, layout_box_3d_transform_proj, front_flags=front_flags, color=(0, 0, 0))\n",
    "\n",
    "plt.figure()\n",
    "plt.imshow(np.array(img_map))\n",
    "plt.show()"
   ]
  },
  {
   "cell_type": "code",
   "execution_count": 399,
   "metadata": {},
   "outputs": [
    {
     "name": "stdout",
     "output_type": "stream",
     "text": [
      "[[-577.8708    0.      320.    ]\n",
      " [   0.     -577.8708  240.    ]\n",
      " [   0.        0.        1.    ]]\n",
      "[[0.]\n",
      " [0.]\n",
      " [0.]]\n",
      "[[ 0.    ]\n",
      " [-0.    ]\n",
      " [ 1.0009]]\n"
     ]
    }
   ],
   "source": [
    "print(cam_K)\n",
    "\n",
    "print(R_c @ origin + t_c) # should equal to [0., 0., 0.] in cam coordinates\n",
    "\n",
    "print(R_c @ lookat + t_c) # should equal to the z axis in cam coordinates"
   ]
  },
  {
   "cell_type": "code",
   "execution_count": 637,
   "metadata": {},
   "outputs": [
    {
     "data": {
      "application/vnd.jupyter.widget-view+json": {
       "model_id": "51dca3a702284ea7b7a89068310eae2f",
       "version_major": 2,
       "version_minor": 0
      },
      "text/plain": [
       "Canvas(toolbar=Toolbar(toolitems=[('Home', 'Reset original view', 'home', 'home'), ('Back', 'Back to previous …"
      ]
     },
     "metadata": {},
     "output_type": "display_data"
    },
    {
     "data": {
      "text/plain": [
       "<utils.utils_rui.Arrow3D at 0x7fcbdbff9e48>"
      ]
     },
     "execution_count": 637,
     "metadata": {},
     "output_type": "execute_result"
    }
   ],
   "source": [
    "# draw layout, cam and world coordinates in 3D\n",
    "\n",
    "from utils.utils_rui import Arrow3D\n",
    "fig = plt.figure()\n",
    "ax = fig.gca(projection='3d')\n",
    "ax.set_proj_type('ortho')\n",
    "ax.set_aspect(\"auto\")\n",
    "v_pairs = v_pairs_from_v3d_e(v_skeleton, e_skeleton)\n",
    "for v_pair in v_pairs:\n",
    "    ax.plot3D(v_pair[0], v_pair[1], v_pair[2], 'gray')\n",
    "v_pairs = v_pairs_from_v3d_e(v_skeleton_transform, e_skeleton)\n",
    "for v_pair in v_pairs:\n",
    "    ax.plot3D(v_pair[0], v_pair[1], v_pair[2])\n",
    "ax.view_init(elev=-36, azim=89)\n",
    "vis_axis(ax)\n",
    "\n",
    "from utils.utils_rui import vis_axis_xyz\n",
    "vis_axis_xyz(ax, xaxis.flatten(), yaxis.flatten(), zaxis.flatten(), origin.flatten(), suffix='_c')\n",
    "\n",
    "a = Arrow3D([origin[0][0], lookat[0][0]*2-origin[0][0]], [origin[1][0], lookat[1][0]*2-origin[1][0]], [origin[2][0], lookat[2][0]*2-origin[2][0]], mutation_scale=20,\n",
    "                lw=1, arrowstyle=\"->\", color=\"k\")\n",
    "# a = Arrow3D([0., 1.,], [0., 1.,], [0., 1.,], mutation_scale=20,\n",
    "#                 lw=1, arrowstyle=\"->\", color=\"k\")\n",
    "ax.add_artist(a)\n",
    "a_up = Arrow3D([origin[0][0], origin[0][0]+up[0][0]], [origin[1][0], origin[1][0]+up[1][0]], [origin[2][0], origin[2][0]+up[2][0]], mutation_scale=20,\n",
    "                lw=1, arrowstyle=\"->\", color=\"r\")\n",
    "ax.add_artist(a_up)"
   ]
  },
  {
   "cell_type": "code",
   "execution_count": 774,
   "metadata": {
    "scrolled": false
   },
   "outputs": [
    {
     "data": {
      "application/vnd.jupyter.widget-view+json": {
       "model_id": "45231c90c8ca4509b3db3ec55491a9f4",
       "version_major": 2,
       "version_minor": 0
      },
      "text/plain": [
       "Canvas(toolbar=Toolbar(toolitems=[('Home', 'Reset original view', 'home', 'home'), ('Back', 'Back to previous …"
      ]
     },
     "metadata": {},
     "output_type": "display_data"
    },
    {
     "name": "stderr",
     "output_type": "stream",
     "text": [
      "20it [00:03,  6.15it/s]\n"
     ]
    }
   ],
   "source": [
    "# load object bboxes\n",
    "root_uv_mapped = Path('/newfoundland2/ruizhu/siggraphasia20dataset/uv_mapped')\n",
    "root_layoutMesh = Path('/newfoundland2/ruizhu/siggraphasia20dataset/layoutMesh')\n",
    "\n",
    "from utils_OR.utils_OR_xml import parse_XML_for_shapes\n",
    "shape_list = parse_XML_for_shapes(root, root_uv_mapped)\n",
    "\n",
    "from utils_OR.utils_OR_mesh import loadMesh, computeBox, computeTransform\n",
    "from utils_OR.utils_OR_transform import *\n",
    "\n",
    "from tqdm import tqdm\n",
    "\n",
    "# draw layout, cam and world coordinates in 3D\n",
    "from utils.utils_rui import Arrow3D\n",
    "fig = plt.figure()\n",
    "ax = fig.gca(projection='3d')\n",
    "ax.set_proj_type('ortho')\n",
    "ax.set_aspect(\"auto\")\n",
    "v_pairs = v_pairs_from_v3d_e(v_skeleton_transform, e_skeleton)\n",
    "for v_pair in v_pairs:\n",
    "    ax.plot3D(v_pair[0], v_pair[1], v_pair[2])\n",
    "ax.view_init(elev=-36, azim=89)\n",
    "vis_axis(ax)\n",
    "\n",
    "# from utils.utils_rui import vis_axis_xyz\n",
    "# vis_axis_xyz(ax, xaxis.flatten(), yaxis.flatten(), zaxis.flatten(), origin.flatten(), suffix='_c')\n",
    "\n",
    "# a = Arrow3D([origin[0][0], lookat[0][0]*2-origin[0][0]], [origin[1][0], lookat[1][0]*2-origin[1][0]], [origin[2][0], lookat[2][0]*2-origin[2][0]], mutation_scale=20,\n",
    "#                 lw=1, arrowstyle=\"->\", color=\"k\")\n",
    "# # a = Arrow3D([0., 1.,], [0., 1.,], [0., 1.,], mutation_scale=20,\n",
    "# #                 lw=1, arrowstyle=\"->\", color=\"k\")\n",
    "# ax.add_artist(a)\n",
    "# a_up = Arrow3D([origin[0][0], origin[0][0]+up[0][0]], [origin[1][0], origin[1][0]+up[1][0]], [origin[2][0], origin[2][0]+up[2][0]], mutation_scale=20,\n",
    "#                 lw=1, arrowstyle=\"->\", color=\"r\")\n",
    "# ax.add_artist(a_up)\n",
    "\n",
    "\n",
    "\n",
    "from utils.utils_rui import vis_cube_plt\n",
    "# vis_cube_plt(bverts_transformed, ax, 'r')\n",
    "vertices_list = []\n",
    "faces_list = []\n",
    "num_vertices = 0\n",
    "for shape_idx, shape in tqdm(enumerate(shape_list)):\n",
    "    if 'container' in shape['filename']:\n",
    "        continue\n",
    "\n",
    "    if 'uv_mapped' in shape['filename']:\n",
    "        obj_path = root_uv_mapped / shape['filename'].replace('../../../../../uv_mapped/', '')\n",
    "    if 'layoutMesh' in shape['filename']:\n",
    "        obj_path = root_layoutMesh / shape['filename'].replace('../../../../../layoutMesh/', '')\n",
    "\n",
    "    vertices, faces = loadMesh(obj_path) # based on L430 of adjustObjectPoseCorrectChairs.py\n",
    "    bverts, bfaces = computeBox(vertices )\n",
    "#     vis_cube_plt(bverts, ax, 'r')\n",
    "    \n",
    "    bverts_transformed, transforms_converted_list = transform_with_transforms_xml_list(shape['transforms_list'], bverts)\n",
    "    vertices_transformed, _ = transform_with_transforms_xml_list(shape['transforms_list'], vertices)\n",
    "#     if shape_idx < len(transforms):\n",
    "#         bverts_transformed = transform_with_transforms_dat_list(transforms[shape_idx], bverts)\n",
    "#         vertices_transformed = transform_with_transforms_dat_list(transforms[shape_idx], vertices)\n",
    "    if not(any(ext in shape['filename'] for ext in ['window', 'door', 'lamp'])):\n",
    "#         vis_cube_plt(bverts_transformed, ax, 'r' if 'scene' not in shape['filename'] else 'b')\n",
    "        if 'scene' not in shape['filename']:\n",
    "            vis_cube_plt(bverts_transformed, ax, 'r')\n",
    "    \n",
    "    vertices_list.append(vertices_transformed)\n",
    "#     vertices_list.append(vertices)\n",
    "    \n",
    "    faces_list.append(faces+num_vertices)\n",
    "    num_vertices += vertices.shape[0]\n",
    "    \n",
    "#     print('======', shape_idx)\n",
    "#     print(shape['id'], shape['filename'])\n",
    "#     print(shape['transforms_list'])\n",
    "#     print(transforms_converted_list)\n",
    "#     if shape_idx < len(transforms):\n",
    "#         print(transforms[shape_idx])\n",
    "\n",
    "vis_cube_plt(layout_box_3d_transform, ax, 'b', '--')\n",
    "\n",
    "\n",
    "# write to obj\n",
    "vertices_combine = np.vstack(vertices_list)\n",
    "faces_combine = np.vstack(faces_list)\n",
    "from utils_OR.utils_OR_mesh import writeMesh\n",
    "\n",
    "writeMesh('/home/ruizhu/Downloads/test_mesh.obj', vertices_combine, faces_combine)"
   ]
  }
 ],
 "metadata": {
  "kernelspec": {
   "display_name": "Python [conda env:Total3D] *",
   "language": "python",
   "name": "conda-env-Total3D-py"
  },
  "language_info": {
   "codemirror_mode": {
    "name": "ipython",
    "version": 3
   },
   "file_extension": ".py",
   "mimetype": "text/x-python",
   "name": "python",
   "nbconvert_exporter": "python",
   "pygments_lexer": "ipython3",
   "version": "3.6.10"
  }
 },
 "nbformat": 4,
 "nbformat_minor": 4
}
